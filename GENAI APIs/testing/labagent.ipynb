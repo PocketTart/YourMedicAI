{
 "cells": [
  {
   "cell_type": "code",
   "execution_count": 6,
   "id": "92920e6e",
   "metadata": {},
   "outputs": [],
   "source": [
    "from langchain.chains import RetrievalQA\n",
    "from langchain.vectorstores import FAISS\n",
    "from langchain.embeddings.huggingface import HuggingFaceEmbeddings\n",
    "from langchain.chat_models import ChatOpenAI\n",
    "from langchain.document_loaders import TextLoader, PyPDFLoader\n",
    "from langchain.text_splitter import RecursiveCharacterTextSplitter\n",
    "from langchain.tools import Tool\n"
   ]
  },
  {
   "cell_type": "code",
   "execution_count": null,
   "id": "8eaab1cf",
   "metadata": {},
   "outputs": [
    {
     "name": "stderr",
     "output_type": "stream",
     "text": [
      "d:\\YourMedicAI\\GENAI APIs\\gen_env\\Lib\\site-packages\\huggingface_hub\\file_download.py:797: FutureWarning: `resume_download` is deprecated and will be removed in version 1.0.0. Downloads always resume when possible. If you want to force a new download, use `force_download=True`.\n",
      "  warnings.warn(\n"
     ]
    }
   ],
   "source": [
    "embedding_model = HuggingFaceEmbeddings(model_name=\"BAAI/bge-base-en-v1.5\")\n",
    "\n",
    "apikey = \"YOURAPIKEY\" #get it from MISTRALAI\n",
    "llm = ChatOpenAI(\n",
    "    openai_api_key=apikey,\n",
    "    openai_api_base=\"https://api.mistral.ai/v1\",\n",
    "    model=\"ministral-8b-latest\"\n",
    ")\n",
    "\n"
   ]
  },
  {
   "cell_type": "code",
   "execution_count": 3,
   "id": "e0595eee",
   "metadata": {},
   "outputs": [],
   "source": [
    "lab_faiss = None\n",
    "lab_qa_chain = None\n",
    "\n",
    "def load_lab_chain(file_path: str):\n",
    "    global lab_faiss, lab_qa_chain\n",
    "    lab_faiss = create_lab_faiss_from_file(file_path)\n",
    "    retriever = lab_faiss.as_retriever(search_kwargs={\"k\": 3})\n",
    "    lab_qa_chain = RetrievalQA.from_chain_type(llm=llm, retriever=retriever, chain_type=\"stuff\")\n",
    "\n"
   ]
  },
  {
   "cell_type": "code",
   "execution_count": 8,
   "id": "33bf4656",
   "metadata": {},
   "outputs": [],
   "source": [
    "lab_faiss = None\n",
    "lab_qa_chain = None\n",
    "\n",
    "def create_lab_faiss_from_file(file_path: str):\n",
    "    loader = PyPDFLoader(file_path) if file_path.endswith(\".pdf\") else TextLoader(file_path)\n",
    "    docs = loader.load()\n",
    "    splitter = RecursiveCharacterTextSplitter(chunk_size=1000, chunk_overlap=200)\n",
    "    split_docs = splitter.split_documents(docs)\n",
    "    faiss_index = FAISS.from_documents(split_docs, embedding_model)\n",
    "    return faiss_index\n",
    "\n"
   ]
  },
  {
   "cell_type": "code",
   "execution_count": 9,
   "id": "b4ba96a8",
   "metadata": {},
   "outputs": [],
   "source": [
    "def load_lab_chain(file_path: str):\n",
    "    global lab_faiss, lab_qa_chain\n",
    "    lab_faiss = create_lab_faiss_from_file(file_path)\n",
    "    retriever = lab_faiss.as_retriever(search_kwargs={\"k\": 3})\n",
    "    lab_qa_chain = RetrievalQA.from_chain_type(llm=llm, retriever=retriever, chain_type=\"stuff\")\n",
    "\n",
    "def analyze_lab_query(query: str) -> str:\n",
    "    if lab_qa_chain is None:\n",
    "        return \"No lab file has been uploaded yet.\"\n",
    "    return lab_qa_chain.run(query)\n",
    "\n"
   ]
  },
  {
   "cell_type": "code",
   "execution_count": 10,
   "id": "b332a6c1",
   "metadata": {},
   "outputs": [],
   "source": [
    "lab_tool = Tool(\n",
    "    name=\"LabFileAnalyzer\",\n",
    "    func=analyze_lab_query,\n",
    "    description=\"Useful for analyzing user-uploaded lab reports and answering questions based on them.\"\n",
    ")\n"
   ]
  },
  {
   "cell_type": "code",
   "execution_count": null,
   "id": "077c3090",
   "metadata": {},
   "outputs": [],
   "source": []
  }
 ],
 "metadata": {
  "kernelspec": {
   "display_name": "gen_env",
   "language": "python",
   "name": "python3"
  },
  "language_info": {
   "codemirror_mode": {
    "name": "ipython",
    "version": 3
   },
   "file_extension": ".py",
   "mimetype": "text/x-python",
   "name": "python",
   "nbconvert_exporter": "python",
   "pygments_lexer": "ipython3",
   "version": "3.12.1"
  }
 },
 "nbformat": 4,
 "nbformat_minor": 5
}
