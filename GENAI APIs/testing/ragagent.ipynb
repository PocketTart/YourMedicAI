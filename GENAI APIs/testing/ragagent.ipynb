{
 "cells": [
  {
   "cell_type": "code",
   "execution_count": 1,
   "metadata": {},
   "outputs": [],
   "source": [
    "import os\n",
    "import pdfplumber\n",
    "from langchain.chat_models import ChatOpenAI\n",
    "from langchain.chains import RetrievalQA\n",
    "from langchain.memory import ConversationBufferMemory\n",
    "from langchain.prompts import PromptTemplate\n",
    "from langchain.agents import initialize_agent, AgentType\n",
    "from langchain.text_splitter import RecursiveCharacterTextSplitter\n",
    "from langchain.embeddings.huggingface import HuggingFaceEmbeddings\n",
    "from langchain.vectorstores import FAISS\n",
    "from langchain.tools import Tool\n",
    "from langchain.tools import DuckDuckGoSearchRun\n",
    "from langchain_core.documents import Document"
   ]
  },
  {
   "cell_type": "code",
   "execution_count": 5,
   "metadata": {},
   "outputs": [
    {
     "ename": "ModuleNotFoundError",
     "evalue": "No module named 'labagent'",
     "output_type": "error",
     "traceback": [
      "\u001b[31m---------------------------------------------------------------------------\u001b[39m",
      "\u001b[31mModuleNotFoundError\u001b[39m                       Traceback (most recent call last)",
      "\u001b[36mCell\u001b[39m\u001b[36m \u001b[39m\u001b[32mIn[5]\u001b[39m\u001b[32m, line 1\u001b[39m\n\u001b[32m----> \u001b[39m\u001b[32m1\u001b[39m \u001b[38;5;28;01mfrom\u001b[39;00m\u001b[38;5;250m \u001b[39m\u001b[34;01mlabagent\u001b[39;00m\u001b[38;5;250m \u001b[39m\u001b[38;5;28;01mimport\u001b[39;00m lab_tool\n",
      "\u001b[31mModuleNotFoundError\u001b[39m: No module named 'labagent'"
     ]
    }
   ],
   "source": [
    "from labagent import lab_tool"
   ]
  },
  {
   "cell_type": "code",
   "execution_count": null,
   "metadata": {},
   "outputs": [
    {
     "name": "stderr",
     "output_type": "stream",
     "text": [
      "C:\\Users\\Varun Gupta\\AppData\\Local\\Temp\\ipykernel_5264\\2828721541.py:2: LangChainDeprecationWarning: The class `ChatOpenAI` was deprecated in LangChain 0.0.10 and will be removed in 1.0. An updated version of the class exists in the :class:`~langchain-openai package and should be used instead. To use it run `pip install -U :class:`~langchain-openai` and import as `from :class:`~langchain_openai import ChatOpenAI``.\n",
      "  llm = ChatOpenAI(\n"
     ]
    }
   ],
   "source": [
    "apikey = \"YOURAPIKEY\" #get it from MISTRALAI\n",
    "llm = ChatOpenAI(\n",
    "    openai_api_key=apikey,\n",
    "    openai_api_base=\"https://api.mistral.ai/v1\",\n",
    "    model=\"ministral-8b-latest\"\n",
    "    \n",
    ")"
   ]
  },
  {
   "cell_type": "code",
   "execution_count": 5,
   "metadata": {},
   "outputs": [],
   "source": [
    "def load_pdfs(directory):\n",
    "    documents = []\n",
    "    for filename in os.listdir(directory):\n",
    "        if filename.endswith(\".pdf\"):\n",
    "            file_path = os.path.join(directory, filename)\n",
    "            with pdfplumber.open(file_path) as pdf:\n",
    "                text = \"\".join(page.extract_text() or \"\" for page in pdf.pages)\n",
    "                if text.strip():\n",
    "                    documents.append(Document(page_content=text))\n",
    "    return documents\n",
    "\n",
    "\n",
    "    return documents\n",
    "docs = load_pdfs(\"documents\")"
   ]
  },
  {
   "cell_type": "code",
   "execution_count": 41,
   "metadata": {},
   "outputs": [],
   "source": [
    "text_splitter = RecursiveCharacterTextSplitter(chunk_size=200, chunk_overlap=50)\n",
    "documents = text_splitter.split_documents(docs)\n"
   ]
  },
  {
   "cell_type": "code",
   "execution_count": 4,
   "metadata": {},
   "outputs": [
    {
     "ename": "NameError",
     "evalue": "name 'HuggingFaceEmbeddings' is not defined",
     "output_type": "error",
     "traceback": [
      "\u001b[1;31m---------------------------------------------------------------------------\u001b[0m",
      "\u001b[1;31mNameError\u001b[0m                                 Traceback (most recent call last)",
      "Cell \u001b[1;32mIn[4], line 1\u001b[0m\n\u001b[1;32m----> 1\u001b[0m embedding_model \u001b[38;5;241m=\u001b[39m \u001b[43mHuggingFaceEmbeddings\u001b[49m(model_name\u001b[38;5;241m=\u001b[39m\u001b[38;5;124m\"\u001b[39m\u001b[38;5;124mBAAI/bge-base-en-v1.5\u001b[39m\u001b[38;5;124m\"\u001b[39m)\n",
      "\u001b[1;31mNameError\u001b[0m: name 'HuggingFaceEmbeddings' is not defined"
     ]
    }
   ],
   "source": [
    "embedding_model = HuggingFaceEmbeddings(model_name=\"BAAI/bge-base-en-v1.5\")\n"
   ]
  },
  {
   "cell_type": "code",
   "execution_count": 46,
   "metadata": {},
   "outputs": [],
   "source": [
    "faiss_index = FAISS.from_documents(documents, embedding_model)\n",
    "faiss_index.save_local(\"faiss_index\")"
   ]
  },
  {
   "cell_type": "code",
   "execution_count": 18,
   "metadata": {},
   "outputs": [],
   "source": [
    "retriever = faiss_index.as_retriever(search_kwargs={\"k\": 3})\n"
   ]
  },
  {
   "cell_type": "code",
   "execution_count": 15,
   "metadata": {},
   "outputs": [],
   "source": [
    "faiss_index = FAISS.load_local(\n",
    "    \"faiss_index\", \n",
    "    embeddings=embedding_model, \n",
    "    allow_dangerous_deserialization=True\n",
    ")\n"
   ]
  },
  {
   "cell_type": "code",
   "execution_count": 19,
   "metadata": {},
   "outputs": [
    {
     "name": "stdout",
     "output_type": "stream",
     "text": [
      "Document 1:\n",
      "• Choose whole grains. Whole-grain breads,\n",
      "• LDL Your particular LDL target depends on pasta, and cereal help prevent a blood sugar\n",
      "--------------------------------------------------\n",
      "Document 2:\n",
      "glycemia awareness, foot and eye care\n",
      "• Mild cases may be controlled initially with diet, exercise, and\n",
      "weight loss\n",
      "• Metformin or alternative oral agents if diet is ineffective; insulin\n",
      "--------------------------------------------------\n",
      "Document 3:\n",
      "Page 10 www.health.harvard.edu • 101 TIPS FOR TIP-TOP HEALTH\n",
      "ThinksTock\n",
      "ThinksTock• Add a small amount of healthy fat. Sprinkle on lunch, now’s your chance; why not load up on fruits\n",
      "--------------------------------------------------\n"
     ]
    },
    {
     "name": "stderr",
     "output_type": "stream",
     "text": [
      "C:\\Users\\Varun Gupta\\AppData\\Local\\Temp\\ipykernel_11972\\2586591605.py:2: LangChainDeprecationWarning: The method `BaseRetriever.get_relevant_documents` was deprecated in langchain-core 0.1.46 and will be removed in 1.0. Use :meth:`~invoke` instead.\n",
      "  retrieved_docs = retriever.get_relevant_documents(query)\n"
     ]
    }
   ],
   "source": [
    "query = \"prevention tips for diabetes?\"\n",
    "retrieved_docs = retriever.get_relevant_documents(query)\n",
    "\n",
    "# Display retrieved documents\n",
    "for idx, doc in enumerate(retrieved_docs):\n",
    "    print(f\"Document {idx + 1}:\\n{doc.page_content}\\n{'-'*50}\")\n"
   ]
  },
  {
   "cell_type": "code",
   "execution_count": 20,
   "metadata": {},
   "outputs": [
    {
     "name": "stdout",
     "output_type": "stream",
     "text": [
      "Document 1 SS Score: 0.7176\n",
      "Document 2 SS Score: 0.6916\n",
      "Document 3 SS Score: 0.6793\n"
     ]
    }
   ],
   "source": [
    "import numpy as np\n",
    "from sklearn.metrics.pairwise import cosine_similarity\n",
    "\n",
    "# Encode query and documents\n",
    "query_embedding = np.array(embedding_model.embed_query(query)).reshape(1, -1)\n",
    "doc_embeddings = np.array([embedding_model.embed_query(doc.page_content) for doc in retrieved_docs])\n",
    "\n",
    "# Compute similarity scores\n",
    "similarity_scores = cosine_similarity(query_embedding, doc_embeddings)\n",
    "\n",
    "# Display scores\n",
    "for idx, score in enumerate(similarity_scores[0]):\n",
    "    print(f\"Document {idx + 1} SS Score: {score:.4f}\")\n"
   ]
  },
  {
   "cell_type": "code",
   "execution_count": 34,
   "metadata": {},
   "outputs": [],
   "source": [
    "prompt_template = PromptTemplate(\n",
    "    input_variables=[\"name\", \"age\", \"medical_history\", \"history\", \"input\"],\n",
    "    template=\"\"\"You are a caring and intelligent healthcare assistant designed to provide accurate medical advice tailored to the user's personal details. \n",
    "You prioritize warmth, empathy, and factual information.\n",
    "\n",
    "### Greeting:\n",
    "Greet the user warmly by name, acknowledging their ongoing health journey. If appropriate, mention their conditions to show attentiveness.\n",
    "Also you are directly talking to the user.So use You/Your/We instead he/him/they/{name}.\n",
    "### User Profile:\n",
    "- **Name:** {name}\n",
    "- **Age:** {age}\n",
    "- **Medical History:** {medical_history}\n",
    "\n",
    "### Conversation History:\n",
    "{history}\n",
    "\n",
    "### User Query:\n",
    "{input}\n",
    "\n",
    "### Instructions:\n",
    "- Start with a friendly greeting like \"Hello {name}, I hope you're feeling well today!\" or \"Hi {name}, I'm here to help you with anything you need.\"\n",
    "- When answering medical queries, thoughtfully consider the user's medical history.\n",
    "- Proactively suggest additional health tips that align with their conditions.\n",
    "- Provide practical, actionable advice based on their age, lifestyle, and medical conditions.\n",
    "- Maintain a positive and encouraging tone to support their well-being.\n",
    "- If unsure, recommend consulting a healthcare professional for detailed guidance.\n",
    "\n",
    "Your response:\"\"\"\n",
    ")\n"
   ]
  },
  {
   "cell_type": "code",
   "execution_count": 35,
   "metadata": {},
   "outputs": [],
   "source": [
    "memory = ConversationBufferMemory(memory_key=\"history\", return_messages=True)\n",
    "\n",
    "# RAG Chain\n",
    "qa_chain = RetrievalQA.from_chain_type(\n",
    "    llm=llm,\n",
    "    retriever=retriever,\n",
    "    chain_type=\"stuff\"\n",
    ")"
   ]
  },
  {
   "cell_type": "code",
   "execution_count": 41,
   "metadata": {},
   "outputs": [],
   "source": [
    "search_tool = DuckDuckGoSearchRun()\n",
    "\n",
    "# Tools for the Agent\n",
    "tools = [\n",
    "    Tool(\n",
    "        name=\"HealthcareRAG\",\n",
    "        func=qa_chain.run,\n",
    "        description=\"Useful for answering healthcare-related questions.\"\n",
    "    ),\n",
    "    Tool(\n",
    "        name=\"WebSearch\",\n",
    "        func=search_tool.run,\n",
    "        description=\"Useful for fetching up-to-date healthcare information from the web.\"\n",
    "    ),lab_tool\n",
    "]\n"
   ]
  },
  {
   "cell_type": "code",
   "execution_count": 42,
   "metadata": {},
   "outputs": [],
   "source": [
    "chatbot = initialize_agent(\n",
    "    tools=tools,\n",
    "    agent_type=AgentType.CONVERSATIONAL_REACT_DESCRIPTION,\n",
    "    llm=llm,\n",
    "    verbose=True,\n",
    "    memory=memory,\n",
    "    prompt=prompt_template\n",
    ")\n"
   ]
  },
  {
   "cell_type": "code",
   "execution_count": 38,
   "metadata": {},
   "outputs": [
    {
     "name": "stdout",
     "output_type": "stream",
     "text": [
      "\n",
      "\n",
      "\u001b[1m> Entering new AgentExecutor chain...\u001b[0m\n",
      "\u001b[32;1m\u001b[1;3mTo determine the best exercise for John, who has Type 2 diabetes, an allergy, and is a liver patient, I need to consider his medical conditions and overall health. I'll use the HealthcareRAG tool to get specific recommendations for exercises suitable for his conditions.\n",
      "\n",
      "Action: HealthcareRAG\n",
      "Action Input: \"What are the best exercises for a 30-year-old with Type 2 diabetes, an allergy, and liver disease?\"\u001b[0m\n",
      "Observation: \u001b[36;1m\u001b[1;3mBased on the provided context, here are some exercise recommendations for a 30-year-old with Type 2 diabetes, an allergy, and liver disease:\n",
      "\n",
      "1. **Low-Impact Aerobic Exercises**: These are generally safe and effective for people with liver disease. Examples include:\n",
      "   - Brisk walking\n",
      "   - Cycling (stationary or outdoors)\n",
      "   - Swimming\n",
      "   - Water aerobics\n",
      "\n",
      "2. **Strength Training**: Exercises that strengthen the muscles around the joints can help with weight management and overall health. Focus on exercises that do not involve heavy weights or high-impact movements. Examples include:\n",
      "   - Bodyweight exercises (e.g., squats, lunges, push-ups)\n",
      "   - Resistance band exercises\n",
      "   - Light dumbbell exercises\n",
      "\n",
      "3. **Flexibility and Balance Exercises**: These can help prevent falls and improve overall mobility. Examples include:\n",
      "   - Yoga (ensure it's gentle and suitable for your liver condition)\n",
      "   - Tai Chi\n",
      "   - Stretching exercises\n",
      "\n",
      "4. **Avoid High-Impact Exercises**: These can put too much strain on the liver and joints. Examples to avoid include:\n",
      "   - Running\n",
      "   - Jumping\n",
      "   - High-impact aerobics\n",
      "\n",
      "5. **General Guidelines**:\n",
      "   - Always consult with a healthcare provider before starting any new exercise program.\n",
      "   - Stay hydrated during and after exercise.\n",
      "   - Monitor blood sugar levels before, during, and after exercise.\n",
      "   - Be aware of any allergy symptoms and adjust exercise intensity or type accordingly.\n",
      "   - Avoid exercises that cause pain or discomfort, especially in the liver area.\u001b[0m\n",
      "Thought:\u001b[32;1m\u001b[1;3mBased on the provided context, here are some exercise recommendations for a 30-year-old with Type 2 diabetes, an allergy, and liver disease:\n",
      "\n",
      "1. **Low-Impact Aerobic Exercises**: These are generally safe and effective for people with liver disease. Examples include:\n",
      "   - Brisk walking\n",
      "   - Cycling (stationary or outdoors)\n",
      "   - Swimming\n",
      "   - Water aerobics\n",
      "\n",
      "2. **Strength Training**: Exercises that strengthen the muscles around the joints can help with weight management and overall health. Focus on exercises that do not involve heavy weights or high-impact movements. Examples include:\n",
      "   - Bodyweight exercises (e.g., squats, lunges, push-ups)\n",
      "   - Resistance band exercises\n",
      "   - Light dumbbell exercises\n",
      "\n",
      "3. **Flexibility and Balance Exercises**: These can help prevent falls and improve overall mobility. Examples include:\n",
      "   - Yoga (ensure it's gentle and suitable for your liver condition)\n",
      "   - Tai Chi\n",
      "   - Stretching exercises\n",
      "\n",
      "4. **Avoid High-Impact Exercises**: These can put too much strain on the liver and joints. Examples to avoid include:\n",
      "   - Running\n",
      "   - Jumping\n",
      "   - High-impact aerobics\n",
      "\n",
      "5. **General Guidelines**:\n",
      "   - Always consult with a healthcare provider before starting any new exercise program.\n",
      "   - Stay hydrated during and after exercise.\n",
      "   - Monitor blood sugar levels before, during, and after exercise.\n",
      "   - Be aware of any allergy symptoms and adjust exercise intensity or type accordingly.\n",
      "   - Avoid exercises that cause pain or discomfort, especially in the liver area.\n",
      "\n",
      "Thought: I now know the final answer\n",
      "Final Answer: John should focus on low-impact aerobic exercises, strength training, and flexibility and balance exercises. He should avoid high-impact exercises and always consult with a healthcare provider before starting any new exercise program.\u001b[0m\n",
      "\n",
      "\u001b[1m> Finished chain.\u001b[0m\n"
     ]
    },
    {
     "data": {
      "text/plain": [
       "{'input': '\\nUser Profile:\\n- Name: John\\n- Age: 30\\n- Medical History: Type 2 diabetes, allergy, liver patient\\n\\nUser Query: which exercise to pratice as a patient\\n',\n",
       " 'history': [HumanMessage(content='\\nUser Profile:\\n- Name: John\\n- Age: 30\\n- Medical History: Type 2 diabetes, allergy, liver patient\\n\\nUser Query: which exercise to pratice as a patient\\n', additional_kwargs={}, response_metadata={}),\n",
       "  AIMessage(content='John should focus on low-impact aerobic exercises, strength training, and flexibility and balance exercises. He should avoid high-impact exercises and always consult with a healthcare provider before starting any new exercise program.', additional_kwargs={}, response_metadata={})],\n",
       " 'output': 'John should focus on low-impact aerobic exercises, strength training, and flexibility and balance exercises. He should avoid high-impact exercises and always consult with a healthcare provider before starting any new exercise program.'}"
      ]
     },
     "execution_count": 38,
     "metadata": {},
     "output_type": "execute_result"
    }
   ],
   "source": [
    "name = \"John\"\n",
    "age = 30\n",
    "med_his = \"Type 2 diabetes, allergy, liver patient\"\n",
    "message = \"which exercise to pratice as a patient\"\n",
    "\n",
    "combined_input = f\"\"\"\n",
    "User Profile:\n",
    "- Name: {name}\n",
    "- Age: {age}\n",
    "- Medical History: {med_his}\n",
    "\n",
    "User Query: {message}\n",
    "\"\"\"\n",
    "\n",
    "chatbot.invoke({\n",
    "    \"input\": combined_input\n",
    "})\n"
   ]
  },
  {
   "cell_type": "code",
   "execution_count": null,
   "metadata": {},
   "outputs": [],
   "source": []
  }
 ],
 "metadata": {
  "kernelspec": {
   "display_name": "gen_env",
   "language": "python",
   "name": "python3"
  },
  "language_info": {
   "codemirror_mode": {
    "name": "ipython",
    "version": 3
   },
   "file_extension": ".py",
   "mimetype": "text/x-python",
   "name": "python",
   "nbconvert_exporter": "python",
   "pygments_lexer": "ipython3",
   "version": "3.12.1"
  }
 },
 "nbformat": 4,
 "nbformat_minor": 2
}
